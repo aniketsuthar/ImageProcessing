{
 "cells": [
  {
   "cell_type": "code",
   "execution_count": 4,
   "metadata": {},
   "outputs": [],
   "source": [
    "from bokeh.plotting import figure\n",
    "from bokeh.io import output_file, show\n",
    "\n",
    "f = figure()\n",
    "\n",
    "x = [1, 2, 3, 4, 5]\n",
    "y = [6, 7, 8, 9, 10]\n",
    "\n",
    "output_file(\"graph.html\")\n",
    "\n",
    "f.line(x, y)\n",
    "show(f)\n"
   ]
  },
  {
   "cell_type": "code",
   "execution_count": 8,
   "metadata": {},
   "outputs": [],
   "source": [
    "#Use triangle function to draw graph\n",
    "\n",
    "from bokeh.plotting import figure\n",
    "from bokeh.io import output_file, show\n",
    "\n",
    "f = figure()\n",
    "\n",
    "x = [1, 2, 3, 4, 5]\n",
    "y = [6, 7, 8, 9, 10]\n",
    "\n",
    "output_file(\"graph.html\")\n",
    "\n",
    "f.triangle(x,y)\n",
    "\n",
    "show(f)"
   ]
  },
  {
   "cell_type": "code",
   "execution_count": 13,
   "metadata": {},
   "outputs": [],
   "source": [
    "#Use triangle function to draw graph\n",
    "\n",
    "from bokeh.plotting import figure\n",
    "from bokeh.io import output_file, show\n",
    "\n",
    "f = figure()\n",
    "\n",
    "x = [1, 2, 3, 4, 5]\n",
    "y = [6, 7, 8, 9, 10]\n",
    "\n",
    "output_file(\"graph.html\")\n",
    "\n",
    "f.circle(x,y)\n",
    "\n",
    "show(f)"
   ]
  },
  {
   "cell_type": "code",
   "execution_count": 31,
   "metadata": {},
   "outputs": [
    {
     "name": "stdout",
     "output_type": "stream",
     "text": [
      "   x   y\n",
      "0  1   6\n",
      "1  2   7\n",
      "2  3   8\n",
      "3  4   9\n",
      "4  5  10\n"
     ]
    }
   ],
   "source": [
    "#Use triangle function to draw graph\n",
    "\n",
    "from bokeh.plotting import figure\n",
    "from bokeh.io import output_file, show\n",
    "import pandas \n",
    "\n",
    "f = figure()\n",
    "\n",
    "df = pandas.read_csv(\"data.csv\")\n",
    "\n",
    "print(df)\n",
    "\n",
    "x = df[\"x\"]\n",
    "y = df[\"y\"]\n",
    "\n",
    "output_file(\"csv.html\")\n",
    "\n",
    "f.line(x,y)\n",
    "\n",
    "show(f)"
   ]
  },
  {
   "cell_type": "code",
   "execution_count": 21,
   "metadata": {},
   "outputs": [],
   "source": [
    "from bokeh.plotting import figure\n",
    "from bokeh.io import output_file, show\n",
    "import pandas \n",
    "\n",
    "f = figure()\n",
    "\n",
    "df = pandas.read_csv(\"bachelors.csv\")\n",
    "\n",
    "#print(df)\n",
    "\n",
    "\n"
   ]
  },
  {
   "cell_type": "code",
   "execution_count": 30,
   "metadata": {},
   "outputs": [],
   "source": [
    "from bokeh.plotting import figure\n",
    "from bokeh.io import output_file, show\n",
    "\n",
    "f = figure(height = 500, width = 400)\n",
    "\n",
    "f.max_height = 1500\n",
    "f.max_width = 1000\n",
    "\n",
    "x = [1, 2, 3, 4, 5]\n",
    "y = [6, 7, 8, 9, 10]\n",
    "\n",
    "f.line(x, y)\n",
    "show(f)\n",
    "output_file(\"graph.html\")\n"
   ]
  },
  {
   "cell_type": "code",
   "execution_count": null,
   "metadata": {},
   "outputs": [],
   "source": []
  },
  {
   "cell_type": "code",
   "execution_count": 7,
   "metadata": {},
   "outputs": [],
   "source": [
    "from bokeh.plotting import figure\n",
    "from bokeh.io import output_file, show\n",
    "\n",
    "p = figure(plot_width=500, plot_height=400, tools='pan')\n",
    "\n",
    "p.title.text = \"Cool Data\"\n",
    "p.title.text_color = \"Gray\"\n",
    "p.title.text_font = \"times\"\n",
    "p.title.text_font_style = \"bold\"\n",
    "p.xaxis.minor_tick_line_color = None\n",
    "p.yaxis.minor_tick_line_color = None\n",
    "p.xaxis.axis_label = \"Date\"\n",
    "p.yaxis.axis_label = \"Intensity\"\n",
    "\n",
    "p.line([1, 2, 3], [4, 5, 6])\n",
    "output_file(\"graph.html\")\n",
    "show(p)\n"
   ]
  },
  {
   "cell_type": "code",
   "execution_count": 6,
   "metadata": {},
   "outputs": [],
   "source": [
    "from bokeh.plotting import figure\n",
    "from bokeh.io import output_file, show\n",
    "import pandas\n",
    "\n",
    "p = figure(plot_width=800, plot_height=500, tools='pan')\n",
    "\n",
    "p.title.text = \"Temprature and Air Presure\"\n",
    "p.title.text_color = \"Gray\"\n",
    "p.title.text_font = \"times\"\n",
    "p.title.text_font_style = \"bold\"\n",
    "p.xaxis.minor_tick_line_color = None\n",
    "p.yaxis.minor_tick_line_color = None\n",
    "p.xaxis.axis_label = \"Temprature(C)\"\n",
    "p.yaxis.axis_label = \"Pressure(hPa)\"\n",
    "\n",
    "df = pandas.read_excel(\"verlegenhuken.xlsx\")\n",
    "\n",
    "x = df[\"Temperature\"]\n",
    "y = df[\"Pressure\"]\n",
    "\n",
    "p.line(x,y)\n",
    "\n",
    "output_file(\"graph_exercise.html\")\n",
    "\n",
    "show(p)\n"
   ]
  },
  {
   "cell_type": "code",
   "execution_count": 5,
   "metadata": {},
   "outputs": [],
   "source": [
    "import pandas\n",
    " \n",
    "from bokeh.plotting import figure, output_file, show\n",
    " \n",
    "df=pandas.read_excel(\"http://pythonhow.com/data/verlegenhuken.xlsx\",sheet_name=0)\n",
    "df[\"Temperature\"]=df[\"Temperature\"]/10\n",
    "df[\"Pressure\"]=df[\"Pressure\"]/10\n",
    " \n",
    "p=figure(plot_width=500,plot_height=400,tools='pan')\n",
    " \n",
    "p.title.text=\"Temperature and Air Pressure\"\n",
    "p.title.text_color=\"Gray\"\n",
    "p.title.text_font=\"arial\"\n",
    "p.title.text_font_style=\"bold\"\n",
    "p.xaxis.minor_tick_line_color=None\n",
    "p.yaxis.minor_tick_line_color=None\n",
    "p.xaxis.axis_label=\"Temperature (°C)\"\n",
    "p.yaxis.axis_label=\"Pressure (hPa)\"    \n",
    " \n",
    "p.circle(df[\"Temperature\"],df[\"Pressure\"],size=0.5)\n",
    "output_file(\"Weather.html\")\n",
    "show(p)"
   ]
  },
  {
   "cell_type": "code",
   "execution_count": 8,
   "metadata": {},
   "outputs": [],
   "source": [
    "from bokeh.plotting import figure, output_file, show\n",
    "p = figure(plot_width=500, plot_height=400, tools = 'pan, reset')\n",
    "p.title.text = \"Earthquakes\"\n",
    "p.title.text_color = \"Orange\"\n",
    "p.title.text_font = \"times\"\n",
    "p.title.text_font_style = \"italic\"\n",
    "p.yaxis.minor_tick_line_color = \"Yellow\"\n",
    "p.xaxis.axis_label = \"Times\"\n",
    "p.yaxis.axis_label = \"Value\"\n",
    "p.circle([1,2,3,4,5], [5,6,5,5,3], size = [i*2 for i in [8,12,14,15,20]], color=\"red\", alpha=0.5)\n",
    "output_file(\"Scatter_plotting.html\")\n",
    "show(p)"
   ]
  },
  {
   "cell_type": "code",
   "execution_count": 22,
   "metadata": {
    "scrolled": true
   },
   "outputs": [],
   "source": [
    "from bokeh.plotting import figure, output_file, show\n",
    "import pandas \n",
    "p = figure(plot_width=800 ,plot_height= 500 ,x_axis_type = \"datetime\")\n",
    "\n",
    "df = pandas.read_csv(\"https://query1.finance.yahoo.com/v7/finance/download/%5EIXIC?period1=1230768000&period2=1341014400&interval=1d&events=history\",parse_dates=[\"Date\"])\n",
    "\n",
    "p.line(df[\"Date\"],df[\"Close\"],color= \"orange\")\n",
    "\n",
    "output_file(\"time_series.html\")\n",
    "\n",
    "show(p)\n"
   ]
  },
  {
   "cell_type": "code",
   "execution_count": 21,
   "metadata": {},
   "outputs": [],
   "source": [
    "  import pandas\n",
    "from bokeh.plotting import figure, output_file, show\n",
    "p=figure(plot_width=500,plot_height=400, tools='pan')\n",
    " \n",
    "p.title.text=\"Cool Data\"\n",
    "p.title.text_color=\"Gray\"\n",
    "p.title.text_font=\"times\"\n",
    "p.title.text_font_style=\"bold\"\n",
    "p.xaxis.minor_tick_line_color=None\n",
    "p.yaxis.minor_tick_line_color=None\n",
    "p.xaxis.axis_label=\"Date\"\n",
    "p.yaxis.axis_label=\"Intensity\"    \n",
    " \n",
    "p.line([1,2,3],[4,5,6])\n",
    "output_file(\"graph.html\")\n",
    "show(p)\n",
    " \n",
    "df = pandas.read_csv('https://query1.finance.yahoo.com/v7/finance/download/%5EIXIC?period1=1230768000&period2=1341014400&interval=1d&events=history',parse_dates=[\"Date\"])\n",
    "f = figure(width = 500 , height = 250)\n",
    " \n",
    "f.line(df['Date'] , df['Close'] , color = 'orange' , alpha = 0.5 , legend_label = 'Time Series Graph' )\n",
    " \n",
    "output_file(\"Timeseries.html\")\n",
    " \n",
    "show(f)"
   ]
  },
  {
   "cell_type": "code",
   "execution_count": null,
   "metadata": {},
   "outputs": [],
   "source": []
  },
  {
   "cell_type": "code",
   "execution_count": null,
   "metadata": {},
   "outputs": [],
   "source": []
  },
  {
   "cell_type": "code",
   "execution_count": null,
   "metadata": {},
   "outputs": [],
   "source": []
  }
 ],
 "metadata": {
  "kernelspec": {
   "display_name": "Python 3",
   "language": "python",
   "name": "python3"
  },
  "language_info": {
   "codemirror_mode": {
    "name": "ipython",
    "version": 3
   },
   "file_extension": ".py",
   "mimetype": "text/x-python",
   "name": "python",
   "nbconvert_exporter": "python",
   "pygments_lexer": "ipython3",
   "version": "3.8.5"
  }
 },
 "nbformat": 4,
 "nbformat_minor": 4
}
